{
 "cells": [
  {
   "cell_type": "code",
   "execution_count": null,
   "id": "c2a92d59",
   "metadata": {},
   "outputs": [],
   "source": [
    "import pandas as pd\n",
    "import statsmodels.api as sm\n",
    "import seaborn as sns\n",
    "import matplotlib.pyplot as plt\n",
    "import numpy as np\n",
    "\n",
    "sat = pd.read_csv('sat.csv')\n",
    "model0 = sm.OLS.from_formula('total ~ expend', data=sat).fit()\n",
    "\n",
    "# Print simple regression coefficients:\n",
    "print(model0.params)\n",
    "\n",
    "# Run regression with takingR added:\n",
    "model1 = sm.OLS.from_formula('total ~ expend + takingR', data=sat).fit()\n",
    "\n",
    "# Print multiple regression coefficients:\n",
    "print(model1.params)\n",
    "\n",
    "# Code for scatter plot:\n",
    "sns.lmplot(x='expend', y='total', hue='takingR', palette='colorblind', ci=None, data=sat)\n",
    "\n",
    "# Add regression line for model0\n",
    "expend = np.linspace(3,11,19)\n",
    "expend_b = np.vstack((np.ones_like(expend),expend))\n",
    "total = np.dot(model0.params,expend_b)\n",
    "plt.plot(expend,total,'k--')\n",
    "plt.show()"
   ]
  }
 ],
 "metadata": {
  "language_info": {
   "name": "python"
  }
 },
 "nbformat": 4,
 "nbformat_minor": 5
}
